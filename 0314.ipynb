{
  "nbformat": 4,
  "nbformat_minor": 0,
  "metadata": {
    "colab": {
      "name": "Untitled0.ipynb",
      "provenance": [],
      "collapsed_sections": []
    },
    "kernelspec": {
      "name": "python3",
      "display_name": "Python 3"
    },
    "language_info": {
      "name": "python"
    }
  },
  "cells": [
    {
      "cell_type": "code",
      "execution_count": null,
      "metadata": {
        "id": "4-JzQ3HQAZNr"
      },
      "outputs": [],
      "source": [
        ""
      ]
    },
    {
      "cell_type": "code",
      "source": [
        "a = 2\n",
        "a\n",
        "2\n",
        "b = 3\n",
        "b\n",
        "3\n",
        "a + b\n",
        "5\n",
        "c=2\n",
        "a = c\n",
        "age, name = 18, \"HaoHao\"\n",
        "age\n",
        "18\n",
        "name\n",
        "'HaoHao'\n",
        "c = 6 # 建立變數c\n",
        "c\n",
        "6\n",
        "d = 4\n",
        "e = 5\n",
        "\"\"\"\n",
        "建立變數d\n",
        "建立變數e\n",
        "\"\"\"\n",
        "'\\n建立變數d\\n建立變數e\\n'\n",
        "d, e\n",
        "(4, 5)\n",
        "q = 4\n",
        "str = \"這是字串\"\n",
        "str\n",
        "'這是字串'\n",
        "str1 = \"HaoHao說: 'Hey,你好！'\"\n",
        "str1\n",
        "\"HaoHao說: 'Hey,你好！'\"\n",
        "str2 = 'HaoHao說: \"Hey,你好！\"'\n",
        "str2\n",
        "'HaoHao說: \"Hey,你好！\"'\n",
        "a,b,age,name,str\n",
        "(2, 3, 18, 'HaoHao', '這是字串')\n",
        "print(\"HI\\n你好\")\n",
        "HI\n",
        "你好\n",
        "print(type(100))\n",
        "<class 'int'>\n",
        "print(type(10.1))\n",
        "<class 'float'>\n",
        "print(type(\"Hey, girl, You're my Caroline?\"))\n",
        "<class 'str'>\n",
        "print(type(\"Hey, girl, You're my Caroline\"))\n",
        "print(type(a))\n",
        "print(type(b))\n",
        "print(type(age))\n",
        "print(type(name))\n",
        "<class 'str'>\n",
        "<class 'int'>\n",
        "<class 'int'>\n",
        "<class 'int'>\n",
        "<class 'str'>"
      ],
      "metadata": {
        "colab": {
          "base_uri": "https://localhost:8080/",
          "height": 132
        },
        "id": "yv1W7ncPAk4x",
        "outputId": "7522408b-070f-444c-aad1-287cb94cd603"
      },
      "execution_count": null,
      "outputs": [
        {
          "output_type": "error",
          "ename": "SyntaxError",
          "evalue": "ignored",
          "traceback": [
            "\u001b[0;36m  File \u001b[0;32m\"<ipython-input-3-4f9bdb8806a1>\"\u001b[0;36m, line \u001b[0;32m44\u001b[0m\n\u001b[0;31m    <class 'int'>\u001b[0m\n\u001b[0m    ^\u001b[0m\n\u001b[0;31mSyntaxError\u001b[0m\u001b[0;31m:\u001b[0m invalid syntax\n"
          ]
        }
      ]
    }
  ]
}
